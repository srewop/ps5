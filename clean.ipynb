{
 "cells": [
  {
   "cell_type": "code",
   "execution_count": null,
   "metadata": {},
   "outputs": [],
   "source": [
    "### Filename: clean.ipynb\n",
    "### Author: Your name here.\n",
    "### Reads a file containing arbitrary text. Sanitizes the input text, removing\n",
    "### all punctuation and converting words to lowercase. Writes those words to\n",
    "### another text file in order with one word per line.\n",
    "\n",
    "# DO NOT MODIFY THIS LINE. Imports a library to check whether a file exists.\n",
    "import os\n",
    "\n",
    "# All of the punctuation characters that should be removed during data cleaning.\n",
    "PUNCTUATION = ',!.?;\"()-\\\\:\\'' \n",
    "\n",
    "# TODO: Request as input the names of two files: the input text and the\n",
    "# file to which the cleaned words should be written. Store the input\n",
    "# filename in the variable \"input_filename\" and the output filename in\n",
    "# the variable \"output_filename\"\n",
    "\n",
    "input_filename = input(\"What file do you want to open? \")\n",
    "output_filename = input(\"What is you new save file\")\n",
    "\n",
    "# DO NOT MODIFY THIS LINE. Retrieve the words from the specified file.\n",
    "text = open(input_filename).read()\n",
    "\n",
    "# TODO: The variable \"text\" contains the contents of the input file\n",
    "# as a string. Clean this text and produce a list of strings containing\n",
    "# the cleaned words from the text. Save this list of strings to the variable\n",
    "# \"words\".\n",
    "\n",
    "# DO NOT MODIFY ANYTHING BELOW THIS POINT.\n",
    "# Writes each item in \"words\" (a list of strings) to a text file whose name is\n",
    "# stored in \"output_filename\", one word per line. Print an error message if\n",
    "# the file already exists.\n",
    "if os.path.exists(output_filename):\n",
    "    print(\"ERROR: file {0} already exists. Quitting without saving.\".format(output_filename))\n",
    "else:\n",
    "    fp = open(output_filename, 'w')\n",
    "    fp.write('\\n'.join(words))\n",
    "    fp.close()\n"
   ]
  }
 ],
 "metadata": {
  "language_info": {
   "name": "python"
  }
 },
 "nbformat": 4,
 "nbformat_minor": 2
}
