{
 "cells": [
  {
   "cell_type": "code",
   "execution_count": 3,
   "metadata": {},
   "outputs": [
    {
     "ename": "NameError",
     "evalue": "name 'item' is not defined",
     "output_type": "error",
     "traceback": [
      "\u001b[0;31m---------------------------------------------------------------------------\u001b[0m",
      "\u001b[0;31mNameError\u001b[0m                                 Traceback (most recent call last)",
      "Cell \u001b[0;32mIn[3], line 34\u001b[0m\n\u001b[1;32m     31\u001b[0m word\u001b[38;5;241m.\u001b[39mlower()\n\u001b[1;32m     33\u001b[0m \u001b[38;5;28;01mfor\u001b[39;00m character \u001b[38;5;129;01min\u001b[39;00m word:\n\u001b[0;32m---> 34\u001b[0m     \u001b[38;5;28;01mif\u001b[39;00m character \u001b[38;5;129;01min\u001b[39;00m word \u001b[38;5;241m==\u001b[39m \u001b[43mitem\u001b[49m \u001b[38;5;129;01min\u001b[39;00m PUNCTUATION:\n\u001b[1;32m     35\u001b[0m         character\u001b[38;5;241m.\u001b[39mreplace(item, \u001b[38;5;124m\"\u001b[39m\u001b[38;5;124m\"\u001b[39m)\n\u001b[1;32m     36\u001b[0m     \u001b[38;5;28;01melse\u001b[39;00m:\n",
      "\u001b[0;31mNameError\u001b[0m: name 'item' is not defined"
     ]
    }
   ],
   "source": [
    "### Filename: clean.ipynb\n",
    "### Author: Your name here.\n",
    "### Reads a file containing arbitrary text. Sanitizes the input text, removing\n",
    "### all punctuation and converting words to lowercase. Writes those words to\n",
    "### another text file in order with one word per line.\n",
    "\n",
    "# DO NOT MODIFY THIS LINE. Imports a library to check whether a file exists.\n",
    "import os\n",
    "\n",
    "# All of the punctuation characters that should be removed during data cleaning.\n",
    "PUNCTUATION = ',!.?;\"()-\\\\:\\'' \n",
    "NUMERAL = \"123456789\"\n",
    "\n",
    "# TODO: Request as input the names of two files: the input text and the\n",
    "# file to which the cleaned words should be written. Store the input\n",
    "# filename in the variable \"input_filename\" and the output filename in\n",
    "# the variable \"output_filename\"\n",
    "\n",
    "input_filename = input(\"Input file: \")\n",
    "output_filename = input(\"Output file: \")\n",
    "\n",
    "# DO NOT MODIFY THIS LINE. Retrieve the words from the specified file.\n",
    "text = open(input_filename).read()\n",
    "\n",
    "# TODO: The variable \"text\" contains the contents of the input file\n",
    "# as a string. Clean this text and produce a list of strings containing\n",
    "# the cleaned words from the text. Save this list of strings to the variable\n",
    "# \"words\".\n",
    "\n",
    "for word in text:\n",
    "    word.lower()\n",
    "\n",
    "    for character in word:\n",
    "        if character in word == item in PUNCTUATION:\n",
    "            character.replace(item, \"\")\n",
    "        else:\n",
    "            pass\n",
    "        if character in word == number in numeral:\n",
    "            text.remove(word)\n",
    "        else:\n",
    "            pass\n",
    "\n",
    "# DO NOT MODIFY ANYTHING BELOW THIS POINT.\n",
    "# Writes each item in \"words\" (a list of strings) to a text file whose name is\n",
    "# stored in \"output_filename\", one word per line. Print an error message if\n",
    "# the file already exists.\n",
    "if os.path.exists(output_filename):\n",
    "    print(\"ERROR: file {0} already exists. Quitting without saving.\".format(output_filename))\n",
    "else:\n",
    "    fp = open(output_filename, 'w')\n",
    "    fp.write('\\n'.join(words))\n",
    "    fp.close()\n"
   ]
  }
 ],
 "metadata": {
  "kernelspec": {
   "display_name": "Python 3",
   "language": "python",
   "name": "python3"
  },
  "language_info": {
   "codemirror_mode": {
    "name": "ipython",
    "version": 3
   },
   "file_extension": ".py",
   "mimetype": "text/x-python",
   "name": "python",
   "nbconvert_exporter": "python",
   "pygments_lexer": "ipython3",
   "version": "3.12.1"
  }
 },
 "nbformat": 4,
 "nbformat_minor": 2
}
